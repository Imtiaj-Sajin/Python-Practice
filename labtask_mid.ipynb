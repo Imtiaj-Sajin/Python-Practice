{
  "nbformat": 4,
  "nbformat_minor": 0,
  "metadata": {
    "colab": {
      "provenance": [],
      "authorship_tag": "ABX9TyN1kJujFhoic+84LiNhC4Ni",
      "include_colab_link": true
    },
    "kernelspec": {
      "name": "python3",
      "display_name": "Python 3"
    },
    "language_info": {
      "name": "python"
    }
  },
  "cells": [
    {
      "cell_type": "markdown",
      "metadata": {
        "id": "view-in-github",
        "colab_type": "text"
      },
      "source": [
        "<a href=\"https://colab.research.google.com/github/Imtiaj-Sajin/Python-Practice/blob/main/labtask_mid.ipynb\" target=\"_parent\"><img src=\"https://colab.research.google.com/assets/colab-badge.svg\" alt=\"Open In Colab\"/></a>"
      ]
    },
    {
      "cell_type": "code",
      "execution_count": 6,
      "metadata": {
        "colab": {
          "base_uri": "https://localhost:8080/"
        },
        "id": "MXRiAjTQkSjE",
        "outputId": "d0e5a531-dc5e-41ca-db14-f4310a6f8b6a"
      },
      "outputs": [
        {
          "output_type": "stream",
          "name": "stdout",
          "text": [
            "Enter integers: 1 2 3 4 5\n",
            "Summation of odd numbers: 9\n"
          ]
        }
      ],
      "source": [
        "#problem1\n",
        "numbers = input(\"Enter integers: \").split()\n",
        "odd_sum = 0\n",
        "\n",
        "for num in numbers:\n",
        "    num = int(num)\n",
        "    if num % 2 != 0:\n",
        "        odd_sum += num\n",
        "\n",
        "print(\"Summation of odd numbers:\", odd_sum)\n"
      ]
    },
    {
      "cell_type": "code",
      "source": [
        "#problem2\n",
        "std_List = [\n",
        "    {\"id\":1,\"name\":\"sajin\",\"age\":18},\n",
        "    {\"id\":2,\"name\":\"Fatima\",\"age\":22},\n",
        "    {\"id\":3,\"name\": \"Kamal\",\"age\":19},\n",
        "    {\"id\":4,\"name\": \"wahid\",\"age\":25},\n",
        "    {\"id\":5,\"name\": \"Rahim\",\"age\":21},{\"id\":6, \"name\":\"Afzal\",\"age\":29 }]\n",
        "\n",
        "print(\"students more than 20 age:\")\n",
        "for student in std_List:\n",
        "    if student[\"age\"] > 20:\n",
        "        print(\"____________________________\")\n",
        "        print(\"ID:\", student[\"id\"])\n",
        "        print(\"Name:\", student[\"name\"])\n",
        "        print(\"Age:\", student[\"age\"])\n"
      ],
      "metadata": {
        "colab": {
          "base_uri": "https://localhost:8080/"
        },
        "id": "5VppG2WwqLmr",
        "outputId": "9e74081e-0082-4511-bf4e-40209363693e"
      },
      "execution_count": 19,
      "outputs": [
        {
          "output_type": "stream",
          "name": "stdout",
          "text": [
            "students more than 20 age:\n",
            "____________________________\n",
            "ID: 2\n",
            "Name: Fatima\n",
            "Age: 22\n",
            "____________________________\n",
            "ID: 4\n",
            "Name: wahid\n",
            "Age: 25\n",
            "____________________________\n",
            "ID: 5\n",
            "Name: Rahim\n",
            "Age: 21\n",
            "____________________________\n",
            "ID: 6\n",
            "Name: Afzal\n",
            "Age: 29\n"
          ]
        }
      ]
    },
    {
      "cell_type": "code",
      "source": [
        "#problem3\n",
        "# storing the information in a dictionary\n",
        "table = {('A', 'dirty', 'Suck'): 'Right',\n",
        "         ('A', 'dirty', 'Left'): 'Suck',\n",
        "         ('A', 'clean', 'Suck'): 'Right',\n",
        "         ('A', 'clean', 'Left'): 'Right',\n",
        "         ('B', 'dirty', 'Suck'): 'Left',\n",
        "         ('B', 'dirty', 'Right'): 'Suck',\n",
        "         ('B', 'clean', 'Suck'): 'Left',\n",
        "         ('B', 'clean', 'Left'): 'Left'}\n",
        "\n",
        "percepts = []\n",
        "\n",
        "# agent function\n",
        "def table_driven_agent(percept):\n",
        "    percepts.append(percept)\n",
        "    action = lookup(percepts, table)\n",
        "\n",
        "    return action\n",
        "\n",
        "# function to look-up into the table\n",
        "def lookup(percepts, table):\n",
        "    recent_percept = percepts[-1]\n",
        "\n",
        "    for key, val in table.items():\n",
        "        if key == recent_percept:\n",
        "            return val\n",
        "\n",
        "    return None\n",
        "\n",
        "# testing the implemented agent\n",
        "while True:\n",
        "    print(\"Which location? [Enter 'A' or 'B']\")     # 'A' or 'B'\n",
        "    loc = input()\n",
        "\n",
        "    print(\"Is dirty? [Enter 'dirty' or 'clean']\")   # 'dirty' or 'clean'\n",
        "    dust = input()\n",
        "\n",
        "    print(\"Previous action? [Enter 'Suck' or 'Left' or 'Right']\")\n",
        "    prev_action = input()\n",
        "\n",
        "    current_percept = (loc, dust, prev_action)\n",
        "    selected_action = table_driven_agent(current_percept)\n",
        "\n",
        "    if selected_action != None:\n",
        "        msg = \"The selected action for the current state is '%s'.\" % selected_action\n",
        "        print(msg)\n",
        "    else:\n",
        "        print(\"Action not found for the current perception.\")\n",
        "\n",
        "    print(\"\\nWant to check action again? [Enter 'N' for No.]\")\n",
        "\n",
        "    isExit = input()\n",
        "    if isExit == 'N':\n",
        "        break\n"
      ],
      "metadata": {
        "colab": {
          "base_uri": "https://localhost:8080/"
        },
        "id": "ewvi-05Uq91e",
        "outputId": "ff11f446-f542-4e17-c77c-00b84629c722"
      },
      "execution_count": 17,
      "outputs": [
        {
          "name": "stdout",
          "output_type": "stream",
          "text": [
            "Which location? [Enter 'A' or 'B']\n",
            "a\n",
            "Is dirty? [Enter 'dirty' or 'clean']\n",
            "dirty\n",
            "Previous action? [Enter 'Suck' or 'Left' or 'Right']\n",
            "suck\n",
            "Action not found for the current perception.\n",
            "\n",
            "Want to check action again? [Enter 'N' for No.]\n",
            "y\n",
            "Which location? [Enter 'A' or 'B']\n",
            "A\n",
            "Is dirty? [Enter 'dirty' or 'clean']\n",
            "dirty\n",
            "Previous action? [Enter 'Suck' or 'Left' or 'Right']\n",
            "Suck\n",
            "The selected action for the current state is 'Right'.\n",
            "\n",
            "Want to check action again? [Enter 'N' for No.]\n",
            "N\n"
          ]
        }
      ]
    }
  ]
}